{
    "cells": [
        {
            "cell_type": "markdown",
            "id": "ac622319",
            "metadata": {},
            "source": [
                "# Descriptive statistics problems"
            ]
        },
        {
            "cell_type": "markdown",
            "id": "5e0ab0d5",
            "metadata": {},
            "source": [
                "### Exercise 1\n",
                "\n",
                "We will use NumPy to obtain information to describe statistically.\n",
                "\n",
                "- Generate an array of 100 elements following a normal distribution.\n",
                "- Generate an array of 100 elements following a chi-square distribution with 3 degrees of freedom.\n",
                "- Calculate the main metrics and statistical measures that best describe the two vectors."
            ]
        },
        {
            "cell_type": "code",
            "execution_count": 2,
            "id": "34720ab6",
            "metadata": {},
            "outputs": [
                {
                    "name": "stdout",
                    "output_type": "stream",
                    "text": [
                        "Mean for the Normal data: 0.1995856035663975 and for the Chi-Squared data: 3.044590950976549\n",
                        "Median for the Normal data: 0.23358553350952901 and for the Chi-squared data: 2.4388513434555854\n",
                        "Mode for the Normal data: -0.9451991562709566 and for the Chi_squared data: 3.8318795473248684\n",
                        "The Range for the Normal data: 4.803233717502398 and for the Chi-squared data: 11.52037883668759\n",
                        "Variance for the Normal data: 1.0585439628031081 and for the Chi-squared data 5.396061713888062\n",
                        "Standard Deviation for the Normal data: 1.0288556569330356 and for the Chi-squared data: 2.322942468914816\n",
                        "Skewness for the Normal data: -0.15003841008567742 and for the Chi-squared data: 1.221970044503157\n",
                        "Kurtosis for the Normal data: -0.4136202079767459 and for the Chi-squared data: 1.3738963376702626\n"
                    ]
                }
            ],
            "source": [
                "from scipy.stats import skew, kurtosis\n",
                "import numpy as np\n",
                "import statistics as stats\n",
                "\n",
                "normal_data = np.random.normal(loc=0, scale=1, size=100)\n",
                "\n",
                "chi_sq_data = np.random.chisquare(df=3, size=100)\n",
                "\n",
                "# Measures of central tendency\n",
                "print(f\"Mean for the Normal data: {stats.mean(normal_data)} and for the Chi-Squared data: {stats.mean(chi_sq_data)}\")\n",
                "\n",
                "print(f\"Median for the Normal data: {stats.median(normal_data)} and for the Chi-squared data: {stats.median(chi_sq_data)}\")\n",
                "\n",
                "print(f\"Mode for the Normal data: {stats.mode(normal_data)} and for the Chi_squared data: {stats.mode(chi_sq_data)}\")\n",
                "\n",
                "#Measures of dispersion\n",
                "normal_range = max(normal_data) - min(normal_data)\n",
                "chi_sq_range = max(chi_sq_data) - min(chi_sq_data)\n",
                "print(f\"The Range for the Normal data: {normal_range} and for the Chi-squared data: {chi_sq_range}\")\n",
                "\n",
                "print(f\"Variance for the Normal data: {stats.variance(normal_data)} and for the Chi-squared data {stats.variance(chi_sq_data)}\")\n",
                "print(f\"Standard Deviation for the Normal data: {stats.stdev(normal_data)} and for the Chi-squared data: {stats.stdev(chi_sq_data)}\")\n",
                "\n",
                "# Position measures\n",
                "print(f\"Skewness for the Normal data: {skew(normal_data)} and for the Chi-squared data: {skew(chi_sq_data)}\")\n",
                "\n",
                "print(f\"Kurtosis for the Normal data: {kurtosis(normal_data)} and for the Chi-squared data: {kurtosis(chi_sq_data)}\")\n"
            ]
        },
        {
            "cell_type": "markdown",
            "id": "46c70c3d",
            "metadata": {},
            "source": [
                "### Exercise 2\n",
                "\n",
                "Write a Python program to calculate the standard deviation of the following data:\n",
                "\n",
                "```py\n",
                "data = [4, 2, 5, 8, 6]\n",
                "```"
            ]
        },
        {
            "cell_type": "code",
            "execution_count": 3,
            "id": "d590308e",
            "metadata": {},
            "outputs": [
                {
                    "name": "stdout",
                    "output_type": "stream",
                    "text": [
                        "2.23606797749979\n"
                    ]
                }
            ],
            "source": [
                "data = [4, 2, 5, 8, 6]\n",
                "\n",
                "st_dev = stats.stdev(data)\n",
                "\n",
                "print(st_dev)"
            ]
        }
    ],
    "metadata": {
        "kernelspec": {
            "display_name": "Python 3",
            "language": "python",
            "name": "python3"
        },
        "language_info": {
            "codemirror_mode": {
                "name": "ipython",
                "version": 3
            },
            "file_extension": ".py",
            "mimetype": "text/x-python",
            "name": "python",
            "nbconvert_exporter": "python",
            "pygments_lexer": "ipython3",
            "version": "3.11.4"
        }
    },
    "nbformat": 4,
    "nbformat_minor": 5
}
