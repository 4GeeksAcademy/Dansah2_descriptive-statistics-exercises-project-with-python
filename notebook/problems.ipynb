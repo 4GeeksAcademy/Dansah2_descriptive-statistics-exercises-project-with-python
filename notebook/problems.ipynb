{
    "cells": [
        {
            "cell_type": "markdown",
            "id": "ac622319",
            "metadata": {},
            "source": [
                "# Descriptive statistics problems"
            ]
        },
        {
            "cell_type": "markdown",
            "id": "5e0ab0d5",
            "metadata": {},
            "source": [
                "### Exercise 1\n",
                "\n",
                "We will use NumPy to obtain information to describe statistically.\n",
                "\n",
                "- Generate an array of 100 elements following a normal distribution.\n",
                "- Generate an array of 100 elements following a chi-square distribution with 3 degrees of freedom.\n",
                "- Calculate the main metrics and statistical measures that best describe the two vectors."
            ]
        },
        {
            "cell_type": "code",
            "execution_count": 1,
            "id": "34720ab6",
            "metadata": {},
            "outputs": [],
            "source": [
                "import numpy as np\n",
                "import statistics as stats\n",
                "\n",
                "normal_data = np.random.normal(loc=0, scale=1, size=100)\n",
                "\n",
                "chi_sq_data = np.random.chisquare(df=3, size=100)\n",
                "\n",
                "# Measures of central tendency\n",
                "print(f\"Mean for the Normal data: {stats.mean(normal_data)} and for the Chi-Squared data: {stats.mean(chi_sq_data)}\")\n",
                "\n",
                "print(f\"Median for the Normal data: {stats.median(normal_data)} and for the Chi-squared data: {stats.median(chi_sq_data)}\")\n",
                "\n",
                "print(f\"Mode for the Normal data: {stats.mode(normal_data)} and for the Chi_squared data: {stats.mode(chi_sq_data)}\")\n",
                "\n",
                "print(f\"Standard Deviation for the Normal data: {stats.stdev(normal_data)} and for the Chi-squared data: {stats.stdev(chi_sq_data)}\")\n",
                "\n",
                "#Measures of dispersion\n",
                "\n",
                "normal_range = max(normal_data) - min(normal_data)\n",
                "chi_sq_range = max(chi_sq_data) - min(chi_sq_data)\n",
                "print(f\"The Range for the Normal data: {normal_data} and for the Chi-squared data: {chi_sq_range}\")\n",
                "\n",
                "print(f\"Variance for the Normal data: {stats.variance(normal_data)} and for the Chi-squared data {stats.variance(chi_sq_data)}\")\n",
                "\n",
                "print()\n",
                "\n",
                "\n"
            ]
        },
        {
            "cell_type": "markdown",
            "id": "46c70c3d",
            "metadata": {},
            "source": [
                "### Exercise 2\n",
                "\n",
                "Write a Python program to calculate the standard deviation of the following data:\n",
                "\n",
                "```py\n",
                "data = [4, 2, 5, 8, 6]\n",
                "```"
            ]
        },
        {
            "cell_type": "code",
            "execution_count": 2,
            "id": "d590308e",
            "metadata": {},
            "outputs": [],
            "source": [
                "# TODO"
            ]
        }
    ],
    "metadata": {
        "kernelspec": {
            "display_name": "Python 3",
            "language": "python",
            "name": "python3"
        },
        "language_info": {
            "codemirror_mode": {
                "name": "ipython",
                "version": 3
            },
            "file_extension": ".py",
            "mimetype": "text/x-python",
            "name": "python",
            "nbconvert_exporter": "python",
            "pygments_lexer": "ipython3",
            "version": "3.11.4"
        }
    },
    "nbformat": 4,
    "nbformat_minor": 5
}
